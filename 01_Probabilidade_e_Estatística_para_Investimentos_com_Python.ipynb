{
  "nbformat": 4,
  "nbformat_minor": 0,
  "metadata": {
    "kernelspec": {
      "display_name": "Python 3",
      "language": "python",
      "name": "python3"
    },
    "language_info": {
      "codemirror_mode": {
        "name": "ipython",
        "version": 3
      },
      "file_extension": ".py",
      "mimetype": "text/x-python",
      "name": "python",
      "nbconvert_exporter": "python",
      "pygments_lexer": "ipython3",
      "version": "3.6.2"
    },
    "colab": {
      "name": "01 - Probabilidade e Estatística para Investimentos com Python",
      "provenance": [],
      "include_colab_link": true
    }
  },
  "cells": [
    {
      "cell_type": "markdown",
      "metadata": {
        "id": "view-in-github",
        "colab_type": "text"
      },
      "source": [
        "<a href=\"https://colab.research.google.com/github/codigoquant/probabilidade_para_investimentos/blob/master/01_Probabilidade_e_Estat%C3%ADstica_para_Investimentos_com_Python.ipynb\" target=\"_parent\"><img src=\"https://colab.research.google.com/assets/colab-badge.svg\" alt=\"Open In Colab\"/></a>"
      ]
    },
    {
      "cell_type": "markdown",
      "metadata": {
        "id": "sv3bOY-o-6_b",
        "colab_type": "text"
      },
      "source": [
        "# Probabilidade e Estatística para Investimentos com Python - Simulando um jogo de dados"
      ]
    },
    {
      "cell_type": "code",
      "metadata": {
        "id": "qaOfcbWO-6_V",
        "colab_type": "code",
        "colab": {}
      },
      "source": [
        "import pandas as pd"
      ],
      "execution_count": null,
      "outputs": []
    },
    {
      "cell_type": "markdown",
      "metadata": {
        "id": "Wfv7lvV3-6_U",
        "colab_type": "text"
      },
      "source": [
        "##  Jogando dois dados e somando os valores das faces"
      ]
    },
    {
      "cell_type": "markdown",
      "metadata": {
        "id": "QHoRW2Bs_w_v",
        "colab_type": "text"
      },
      "source": [
        "![alt text](https://media2.giphy.com/media/3ohhwLh5dw0i7iLzOg/giphy.gif?cid=ecf05e47vz5bhal67azfltz9b5dfwcaih4wxyjn4r6frh9u4&rid=giphy.gif)"
      ]
    },
    {
      "cell_type": "markdown",
      "metadata": {
        "id": "OrqRJPJOG0HC",
        "colab_type": "text"
      },
      "source": [
        "## Criando os Dados"
      ]
    },
    {
      "cell_type": "code",
      "metadata": {
        "id": "z_YFitWb-6_c",
        "colab_type": "code",
        "colab": {
          "base_uri": "https://localhost:8080/",
          "height": 233
        },
        "outputId": "6f55de1a-7f0d-408f-d7c7-f5ab4ebdac4f"
      },
      "source": [
        "dado = pd.DataFrame([1,2,3,4,5,6], columns=['face'])\n",
        "dado"
      ],
      "execution_count": null,
      "outputs": [
        {
          "output_type": "execute_result",
          "data": {
            "text/html": [
              "<div>\n",
              "<style scoped>\n",
              "    .dataframe tbody tr th:only-of-type {\n",
              "        vertical-align: middle;\n",
              "    }\n",
              "\n",
              "    .dataframe tbody tr th {\n",
              "        vertical-align: top;\n",
              "    }\n",
              "\n",
              "    .dataframe thead th {\n",
              "        text-align: right;\n",
              "    }\n",
              "</style>\n",
              "<table border=\"1\" class=\"dataframe\">\n",
              "  <thead>\n",
              "    <tr style=\"text-align: right;\">\n",
              "      <th></th>\n",
              "      <th>face</th>\n",
              "    </tr>\n",
              "  </thead>\n",
              "  <tbody>\n",
              "    <tr>\n",
              "      <th>0</th>\n",
              "      <td>1</td>\n",
              "    </tr>\n",
              "    <tr>\n",
              "      <th>1</th>\n",
              "      <td>2</td>\n",
              "    </tr>\n",
              "    <tr>\n",
              "      <th>2</th>\n",
              "      <td>3</td>\n",
              "    </tr>\n",
              "    <tr>\n",
              "      <th>3</th>\n",
              "      <td>4</td>\n",
              "    </tr>\n",
              "    <tr>\n",
              "      <th>4</th>\n",
              "      <td>5</td>\n",
              "    </tr>\n",
              "    <tr>\n",
              "      <th>5</th>\n",
              "      <td>6</td>\n",
              "    </tr>\n",
              "  </tbody>\n",
              "</table>\n",
              "</div>"
            ],
            "text/plain": [
              "   face\n",
              "0     1\n",
              "1     2\n",
              "2     3\n",
              "3     4\n",
              "4     5\n",
              "5     6"
            ]
          },
          "metadata": {
            "tags": []
          },
          "execution_count": 2
        }
      ]
    },
    {
      "cell_type": "markdown",
      "metadata": {
        "id": "myRuxiIpK3C3",
        "colab_type": "text"
      },
      "source": [
        "## Jogando os Dados"
      ]
    },
    {
      "cell_type": "code",
      "metadata": {
        "id": "uRxwqLKMG5zf",
        "colab_type": "code",
        "colab": {
          "base_uri": "https://localhost:8080/",
          "height": 35
        },
        "outputId": "83615cd4-139f-4a3f-f961-78a50e7d8193"
      },
      "source": [
        "dado.sample(2, replace=True).sum()['face']"
      ],
      "execution_count": null,
      "outputs": [
        {
          "output_type": "execute_result",
          "data": {
            "text/plain": [
              "6"
            ]
          },
          "metadata": {
            "tags": []
          },
          "execution_count": 11
        }
      ]
    },
    {
      "cell_type": "markdown",
      "metadata": {
        "id": "yJx2Qtzh-6_t",
        "colab_type": "text"
      },
      "source": [
        "### Jogando várias vezes"
      ]
    },
    {
      "cell_type": "code",
      "metadata": {
        "id": "jshDm4ly-6_u",
        "colab_type": "code",
        "colab": {}
      },
      "source": [
        "jogadas = 10\n",
        "resultados = [ dado.sample(2, replace=True).sum()['face']   for i in range(jogadas) ]"
      ],
      "execution_count": null,
      "outputs": []
    },
    {
      "cell_type": "code",
      "metadata": {
        "id": "BjSO3Viu-6_x",
        "colab_type": "code",
        "colab": {
          "base_uri": "https://localhost:8080/",
          "height": 35
        },
        "outputId": "a9d518fd-5d08-4ae1-aaf8-670716f509b8"
      },
      "source": [
        "print(resultados)"
      ],
      "execution_count": null,
      "outputs": [
        {
          "output_type": "stream",
          "text": [
            "[7, 4, 5, 7, 7, 10, 5, 11, 5, 7]\n"
          ],
          "name": "stdout"
        }
      ]
    },
    {
      "cell_type": "markdown",
      "metadata": {
        "id": "CpA8Xu3EyFCL",
        "colab_type": "text"
      },
      "source": [
        "## Conceitos de Estatística e Probabilidade"
      ]
    },
    {
      "cell_type": "markdown",
      "metadata": {
        "id": "_GC5mMKn2Xg4",
        "colab_type": "text"
      },
      "source": [
        "### Experimento Aleatório"
      ]
    },
    {
      "cell_type": "markdown",
      "metadata": {
        "id": "byMTb7rL2_6v",
        "colab_type": "text"
      },
      "source": [
        "Características:\n",
        "\n",
        "1. Pode ser repetido indefinidamente sob condições essencialmente inalteradas\n",
        "2. Não podemos afirmar qual resultado particular irá ocorrer mas podemos descrever o conjunto de todos os possíveis resultados\n",
        "3. O resultado individual parece ocorrer de forma acidental. Contudo, se for repetido um grande número de vezes uma regularidade começa a ocorrer"
      ]
    },
    {
      "cell_type": "markdown",
      "metadata": {
        "id": "rTPXmkUm2Xjg",
        "colab_type": "text"
      },
      "source": [
        "### Espaço Amostral"
      ]
    },
    {
      "cell_type": "markdown",
      "metadata": {
        "id": "-N_TEnDH7y79",
        "colab_type": "text"
      },
      "source": [
        "É o conjunto de todos os resultados possíveis de nosso experimento aleatório"
      ]
    },
    {
      "cell_type": "markdown",
      "metadata": {
        "id": "xNEbSAYZ8iv2",
        "colab_type": "text"
      },
      "source": [
        "Em nosso jogo de dados o espaço amostral $S$ será:"
      ]
    },
    {
      "cell_type": "markdown",
      "metadata": {
        "id": "cMpkKYhP9TA1",
        "colab_type": "text"
      },
      "source": [
        "$S:$ {todos os resultados possíveis ao se somar as faces de dois dados numerados de 1 a 6 }"
      ]
    },
    {
      "cell_type": "markdown",
      "metadata": {
        "id": "ambqjhPXyPgQ",
        "colab_type": "text"
      },
      "source": [
        "$S: \\{ 2,3,4,5,6,7,8,9,10,11,12 \\}$\n"
      ]
    }
  ]
}